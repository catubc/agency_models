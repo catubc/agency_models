{
 "cells": [
  {
   "cell_type": "code",
   "execution_count": 1,
   "metadata": {
    "tags": []
   },
   "outputs": [
    {
     "data": {
      "application/javascript": "IPython.notebook.set_autosave_interval(180000)"
     },
     "metadata": {},
     "output_type": "display_data"
    },
    {
     "name": "stdout",
     "output_type": "stream",
     "text": [
      "Autosaving every 180 seconds\n"
     ]
    }
   ],
   "source": [
    "%autosave 180\n",
    "%reload_ext autoreload\n",
    "%autoreload 2\n",
    "%matplotlib tk\n",
    "\n",
    "#\n",
    "import matplotlib.pyplot as plt\n",
    "import numpy as np\n",
    "import scipy\n",
    "\n",
    "#\n",
    "from tqdm import trange\n",
    "\n",
    "#\n",
    "from utils import World, Human, Agent, parallel_simulations"
   ]
  },
  {
   "cell_type": "code",
   "execution_count": 2,
   "metadata": {
    "tags": []
   },
   "outputs": [
    {
     "name": "stdout",
     "output_type": "stream",
     "text": [
      "MUST THINK ABOUT ADDING LESS PREDICTABLE HUMANS <- and how human agency/predictablity is the key problem..\n"
     ]
    }
   ],
   "source": [
    "########## BETA FUNCTION VERSION #########\n",
    "\n",
    "#\n",
    "h = Human()\n",
    "\n",
    "# show the distributions\n",
    "h.visualize_dists()\n"
   ]
  },
  {
   "cell_type": "code",
   "execution_count": 7,
   "metadata": {
    "tags": []
   },
   "outputs": [],
   "source": [
    "#####################################################################################\n",
    "############## SIMULATION #1: WORLD-ONLY AND AGENT-INFLUENCED PARADIGM ##############\n",
    "#####################################################################################\n",
    "\n",
    "#\n",
    "h = Human()\n",
    "\n",
    "#\n",
    "a = Agent()\n",
    "a.human = h\n",
    "\n",
    "# generate world object\n",
    "w = World(a, h)\n",
    "\n",
    "# Update human params\n",
    "h.random_init = False\n",
    "h.use_starting_vals = True             # This freezes the agent's knowledge of the human to the starting values only\n",
    "h.agent_scaling = 1/100\n",
    "h.noise_self_scaling = 0 #1/1000\n",
    "h.noise_world_scaling = 1/10\n",
    "h.action_scaling = 0 #1/1000\n",
    "h.option_depletion_max = 0  # max amount of depletion alowed per action\n",
    "h.agency_recovery_rate = 1.1  # rate at which agency recovers\n",
    "h.verbose = False\n",
    "h.agent = a\n",
    "h.w = w\n",
    "\n",
    "#\n",
    "h.n_epochs = 10000\n",
    "token = 0\n",
    "h.run_simulation()\n",
    "\n",
    "#\n",
    "h.plot_simulation()\n",
    "\n"
   ]
  },
  {
   "cell_type": "code",
   "execution_count": 107,
   "metadata": {},
   "outputs": [
    {
     "name": "stderr",
     "output_type": "stream",
     "text": [
      "100%|██████████| 100/100 [00:49<00:00,  2.03it/s]"
     ]
    },
    {
     "name": "stdout",
     "output_type": "stream",
     "text": [
      "...DONE...\n"
     ]
    },
    {
     "name": "stderr",
     "output_type": "stream",
     "text": [
      "\n"
     ]
    }
   ],
   "source": [
    "#####################################################################################\n",
    "############## SIMULATION #1: WORLD-ONLY AND AGENT-INFLUENCED PARADIGM ##############\n",
    "#####################################################################################\n",
    "\n",
    "#\n",
    "def parallel_simulations2(token, prefix=''):\n",
    "\n",
    "    h = Human()\n",
    "\n",
    "    #\n",
    "    a = Agent()\n",
    "    a.human = h\n",
    "\n",
    "    # generate world object\n",
    "    w = World(a, h)\n",
    "\n",
    "    # Update human params\n",
    "    h.random_init = False\n",
    "    h.agent_scaling = 1/200\n",
    "    h.noise_self_scaling = 0 #1/1000\n",
    "    h.noise_world_scaling = 1/10\n",
    "    h.action_scaling = 0 #1/1000\n",
    "    h.option_depletion_max = 0  # max amount of depletion alowed per action\n",
    "    h.agency_recovery_rate = 1.1  # rate at which agency recovers\n",
    "    h.verbose = False\n",
    "    h.prefix = prefix\n",
    "    h.agent = a\n",
    "    h.w = w\n",
    "\n",
    "    #\n",
    "    h.n_epochs = 10000\n",
    "\n",
    "    #\n",
    "    h.run_simulation(token)\n",
    "\n",
    "#\n",
    "import parmap\n",
    "n_simulations = 100\n",
    "\n",
    "#\n",
    "prefix = \"agent_influenced\"\n",
    "\n",
    "#\n",
    "parmap.map(parallel_simulations2, \n",
    "           range(n_simulations), \n",
    "           prefix,\n",
    "           pm_pbar=True, \n",
    "           pm_processes=30)\n",
    "\n",
    "print (\"...DONE...\")\n"
   ]
  },
  {
   "cell_type": "code",
   "execution_count": 108,
   "metadata": {},
   "outputs": [
    {
     "name": "stdout",
     "output_type": "stream",
     "text": [
      "tot_rew:  (100, 4)\n",
      "(4,)\n",
      "tots:  (100,)\n",
      "29819.326879184282\n"
     ]
    }
   ],
   "source": [
    "######################################################################\n",
    "############## SIMULATION #1: VISUALIZE AVERAGE RESULTS ##############\n",
    "######################################################################\n",
    "\n",
    "clrs = ['darkorchid','blue','red','green']\n",
    "\n",
    "#\n",
    "n_simulations = 100\n",
    "tot_rew = []\n",
    "prefix = \"agent_influenced_\"\n",
    "for k in range(n_simulations):\n",
    "    #\n",
    "    fname = '/home/cat/agency_21st_century_paper/data/'+prefix+'agent_'+str(k)+'.npz'\n",
    "    \n",
    "    #\n",
    "    try:\n",
    "        d = np.load(fname)\n",
    "    except:\n",
    "        print (\"...skipping: \", fname)\n",
    "        pass\n",
    "\n",
    "    #\n",
    "    temp = d['total_rewards']\n",
    "    tot_rew.append(temp)\n",
    "\n",
    "# \n",
    "tot_rew = np.array(tot_rew).sum(axis=1)\n",
    "print (\"tot_rew: \", tot_rew.shape)\n",
    "\n",
    "#\n",
    "mean = np.mean(tot_rew, axis=0)\n",
    "std = np.std(tot_rew, axis=0)\n",
    "print (mean.shape)\n",
    "\n",
    "#\n",
    "plt.figure(figsize=(10,5))\n",
    "ax=plt.subplot(1,2,1)\n",
    "plt.bar(np.arange(mean.shape[0]), mean, 0.9, yerr=std,\n",
    "        color=clrs)\n",
    "#\n",
    "ax=plt.subplot(1,2,2)\n",
    "tots = np.sum(tot_rew,axis=1)\n",
    "print (\"tots: \", tots.shape)\n",
    "mean = np.mean(tots)\n",
    "std = np.std(tots)\n",
    "print (mean)\n",
    "plt.bar(1, mean, \n",
    "        yerr=std,\n",
    "        color='black',alpha=0.5)\n",
    "\n",
    "plt.savefig('/home/cat/agency_21st_century_paper/tot_rew_100_episodes.svg')\n",
    "plt.show()\n",
    "\n"
   ]
  },
  {
   "cell_type": "code",
   "execution_count": 109,
   "metadata": {},
   "outputs": [],
   "source": [
    "#####################################################################################\n",
    "############## SIMULATION #2: OPTION DEPLETION CAPPED PARDIGMS ######################\n",
    "#####################################################################################\n",
    "\n",
    "#\n",
    "h = Human()\n",
    "\n",
    "#\n",
    "a = Agent()\n",
    "a.human = h\n",
    "\n",
    "# generate world object\n",
    "w = World(a, h)\n",
    "\n",
    "# Update human params\n",
    "h.random_init = False\n",
    "h.agent_scaling = 1/200\n",
    "h.noise_self_scaling = 0 #1/1000\n",
    "h.noise_world_scaling = 1/10\n",
    "h.option_depletion_max = 0  # max amount of depletion alowed per action\n",
    "h.agency_recovery_rate = 1.1  # rate at which agency recovers once it goes below max depletion\n",
    "h.action_scaling = 0 #1/1000\n",
    "h.verbose = False\n",
    "h.agent = a\n",
    "h.w = w\n",
    "\n",
    "#\n",
    "h.n_epochs = 10000\n",
    "h.run_simulation()\n",
    "\n",
    "#  \n",
    "h.plot_simulation()\n"
   ]
  },
  {
   "cell_type": "code",
   "execution_count": null,
   "metadata": {},
   "outputs": [],
   "source": []
  },
  {
   "cell_type": "code",
   "execution_count": null,
   "metadata": {},
   "outputs": [],
   "source": []
  },
  {
   "cell_type": "code",
   "execution_count": null,
   "metadata": {},
   "outputs": [],
   "source": []
  },
  {
   "cell_type": "code",
   "execution_count": null,
   "metadata": {},
   "outputs": [],
   "source": []
  },
  {
   "cell_type": "code",
   "execution_count": null,
   "metadata": {},
   "outputs": [],
   "source": []
  },
  {
   "cell_type": "code",
   "execution_count": null,
   "metadata": {},
   "outputs": [],
   "source": []
  },
  {
   "cell_type": "code",
   "execution_count": null,
   "metadata": {},
   "outputs": [],
   "source": []
  },
  {
   "cell_type": "code",
   "execution_count": 33,
   "metadata": {},
   "outputs": [
    {
     "ename": "NameError",
     "evalue": "name 'actions' is not defined",
     "output_type": "error",
     "traceback": [
      "\u001b[0;31m---------------------------------------------------------------------------\u001b[0m",
      "\u001b[0;31mNameError\u001b[0m                                 Traceback (most recent call last)",
      "\u001b[1;32m/home/cat/code/agency_paper/two_agent_armed_bandit.ipynb Cell 4\u001b[0m in \u001b[0;36m<cell line: 4>\u001b[0;34m()\u001b[0m\n\u001b[1;32m      <a href='vscode-notebook-cell:/home/cat/code/agency_paper/two_agent_armed_bandit.ipynb#W3sZmlsZQ%3D%3D?line=2'>3</a>\u001b[0m ax\u001b[39m=\u001b[39mplt\u001b[39m.\u001b[39msubplot(\u001b[39m121\u001b[39m)\n\u001b[1;32m      <a href='vscode-notebook-cell:/home/cat/code/agency_paper/two_agent_armed_bandit.ipynb#W3sZmlsZQ%3D%3D?line=3'>4</a>\u001b[0m \u001b[39mfor\u001b[39;00m k \u001b[39min\u001b[39;00m \u001b[39mrange\u001b[39m(\u001b[39m4\u001b[39m):\n\u001b[0;32m----> <a href='vscode-notebook-cell:/home/cat/code/agency_paper/two_agent_armed_bandit.ipynb#W3sZmlsZQ%3D%3D?line=4'>5</a>\u001b[0m     plt\u001b[39m.\u001b[39mplot(actions[:,k], c\u001b[39m=\u001b[39mclrs[k],\n\u001b[1;32m      <a href='vscode-notebook-cell:/home/cat/code/agency_paper/two_agent_armed_bandit.ipynb#W3sZmlsZQ%3D%3D?line=5'>6</a>\u001b[0m              label\u001b[39m=\u001b[39mh\u001b[39m.\u001b[39maction_types[k])\n\u001b[1;32m      <a href='vscode-notebook-cell:/home/cat/code/agency_paper/two_agent_armed_bandit.ipynb#W3sZmlsZQ%3D%3D?line=6'>7</a>\u001b[0m plt\u001b[39m.\u001b[39mylim(top\u001b[39m=\u001b[39m\u001b[39m1\u001b[39m)\n\u001b[1;32m      <a href='vscode-notebook-cell:/home/cat/code/agency_paper/two_agent_armed_bandit.ipynb#W3sZmlsZQ%3D%3D?line=7'>8</a>\u001b[0m plt\u001b[39m.\u001b[39mlegend(fontsize\u001b[39m=\u001b[39m\u001b[39m12\u001b[39m)\n",
      "\u001b[0;31mNameError\u001b[0m: name 'actions' is not defined"
     ]
    }
   ],
   "source": [
    "\n",
    "#######################################\n",
    "plt.figure()\n",
    "ax=plt.subplot(121)\n",
    "for k in range(4):\n",
    "    plt.plot(actions[:,k], c=clrs[k],\n",
    "             label=h.action_types[k])\n",
    "plt.ylim(top=1)\n",
    "plt.legend(fontsize=12)\n",
    "#plt.semilogy()\n",
    "plt.semilogx()\n",
    "plt.ylabel(\"Probability of choosing action for human\")\n",
    "plt.title(\"Random noise ~ agent recomendation\")\n",
    "\n",
    "#\n",
    "ax=plt.subplot(122)\n",
    "for k in range(4):\n",
    "    plt.plot(values[:,k], c=clrs[k],\n",
    "             label=h.action_types[k])\n",
    "plt.show()\n",
    "\n",
    "# make test function\n",
    "\n"
   ]
  },
  {
   "cell_type": "code",
   "execution_count": null,
   "metadata": {},
   "outputs": [],
   "source": []
  },
  {
   "cell_type": "code",
   "execution_count": null,
   "metadata": {},
   "outputs": [],
   "source": []
  },
  {
   "cell_type": "code",
   "execution_count": null,
   "metadata": {},
   "outputs": [],
   "source": []
  },
  {
   "cell_type": "code",
   "execution_count": 56,
   "metadata": {},
   "outputs": [
    {
     "ename": "KeyError",
     "evalue": "'reasoning'",
     "output_type": "error",
     "traceback": [
      "\u001b[0;31m---------------------------------------------------------------------------\u001b[0m",
      "\u001b[0;31mKeyError\u001b[0m                                  Traceback (most recent call last)",
      "\u001b[0;32m<ipython-input-56-6c2a87d0d89d>\u001b[0m in \u001b[0;36m<module>\u001b[0;34m\u001b[0m\n\u001b[1;32m     44\u001b[0m \u001b[0mpos\u001b[0m \u001b[0;34m=\u001b[0m \u001b[0mnx\u001b[0m\u001b[0;34m.\u001b[0m\u001b[0mspring_layout\u001b[0m\u001b[0;34m(\u001b[0m\u001b[0mGcc\u001b[0m\u001b[0;34m,\u001b[0m \u001b[0mseed\u001b[0m\u001b[0;34m=\u001b[0m\u001b[0;36m10396953\u001b[0m\u001b[0;34m)\u001b[0m\u001b[0;34m\u001b[0m\u001b[0;34m\u001b[0m\u001b[0m\n\u001b[1;32m     45\u001b[0m \u001b[0;34m\u001b[0m\u001b[0m\n\u001b[0;32m---> 46\u001b[0;31m nx.draw_networkx_labels(G, pos,\n\u001b[0m\u001b[1;32m     47\u001b[0m                         \u001b[0;31m#node_color='w',\u001b[0m\u001b[0;34m\u001b[0m\u001b[0;34m\u001b[0m\u001b[0;34m\u001b[0m\u001b[0m\n\u001b[1;32m     48\u001b[0m                         \u001b[0;31m#edgecolors='k',\u001b[0m\u001b[0;34m\u001b[0m\u001b[0;34m\u001b[0m\u001b[0;34m\u001b[0m\u001b[0m\n",
      "\u001b[0;32m/media/cat/4TBSSD/anaconda3/lib/python3.8/site-packages/networkx/drawing/nx_pylab.py\u001b[0m in \u001b[0;36mdraw_networkx_labels\u001b[0;34m(G, pos, labels, font_size, font_color, font_family, font_weight, alpha, bbox, horizontalalignment, verticalalignment, ax)\u001b[0m\n",
      "\u001b[0;31mKeyError\u001b[0m: 'reasoning'"
     ]
    }
   ],
   "source": [
    "def generate_graph_from_connected_nodes(cm):\n",
    "\n",
    "    adjacency_matrix = cm.copy()\n",
    "    \n",
    "    \n",
    "    if True:\n",
    "        G = nx.from_numpy_matrix(adjacency_matrix, create_using=nx.MultiGraph)\n",
    "    \n",
    "    else:\n",
    "        rows, cols = np.where(adjacency_matrix == 1)\n",
    "\n",
    "        #\n",
    "        edges = zip(rows.tolist(), cols.tolist())\n",
    "        G = nx.Graph()\n",
    "        G.add_edges_from(edges)\n",
    "    \n",
    "\n",
    "\n",
    "    return G    \n",
    "\n",
    "names = ['reasoning',\n",
    "         'social status',\n",
    "         'economic status',\n",
    "         'political status',\n",
    "         'noise'\n",
    "        ]\n",
    "\n",
    "a = np.ones((5,5))\n",
    "\n",
    "G = generate_graph_from_connected_nodes(a)\n",
    "\n",
    "plt.figure()\n",
    "ax0 = plt.subplot(111)\n",
    "#\n",
    "Gcc = G.subgraph(sorted(nx.connected_components(G), \n",
    "                        #key=len, \n",
    "                        reverse=True)[0])\n",
    "\n",
    "pos = nx.spring_layout(Gcc, seed=10396953)\n",
    "\n",
    "#\n",
    "nx.draw_networkx_nodes(Gcc, pos, ax=ax0, node_size=200)\n",
    "nx.draw_networkx_edges(Gcc, pos, ax=ax0, edge_color = 'b', arrowsize=20, \n",
    "                       #arrowstyle='fancy',\n",
    "                       alpha=1)\n",
    "\n",
    "#\n",
    "plt.show()\n",
    "\n",
    "\n",
    "\n"
   ]
  },
  {
   "cell_type": "code",
   "execution_count": 102,
   "metadata": {},
   "outputs": [],
   "source": [
    "import networkx as nx\n",
    "import pylab as plt\n",
    "\n",
    "G=nx.Graph()\n",
    "# Add nodes and edges\n",
    "names = [\"action\",\n",
    "         \"goal\",\n",
    "         \"reasoning\",\n",
    "         \"social status\",\n",
    "         \"economic status\",\n",
    "         \"political status\",\n",
    "         \"noise\",\n",
    "        ]\n",
    "for k in range(len(names)):\n",
    "    for p in range(len(names)):\n",
    "        G.add_edge(names[k], names[p])\n",
    "        \n",
    "plt.figure(figsize=(3,3))\n",
    "\n",
    "pos = nx.spring_layout(G, seed=255155)\n",
    "\n",
    "nx.draw(G,\n",
    "        pos, \n",
    "        with_labels = True,\n",
    "        #labelsize=100,\n",
    "        #size=200,\n",
    "        alpha=1\n",
    "       )\n",
    "\n",
    "\n",
    "\n",
    "# nx.spring_layout(G, pos, seed=10396953,\n",
    "\n",
    "\n",
    "#nx.draw_networkx_nodes(G, pos, ax=ax0, node_size=200)\n",
    "#nx.draw_networkx_edges(G, pos, ax=ax0, edge_color = 'b', arrowsize=20, \n",
    "#                       #arrowstyle='fancy',\n",
    "#                       alpha=1)\n",
    "if False:\n",
    "    plt.show()\n",
    "else:\n",
    "    plt.savefig(\"/home/cat/agency.svg\")\n",
    "    plt.close()"
   ]
  },
  {
   "cell_type": "code",
   "execution_count": null,
   "metadata": {},
   "outputs": [],
   "source": []
  }
 ],
 "metadata": {
  "kernelspec": {
   "display_name": "Python 3 (ipykernel)",
   "language": "python",
   "name": "python3"
  },
  "language_info": {
   "codemirror_mode": {
    "name": "ipython",
    "version": 3
   },
   "file_extension": ".py",
   "mimetype": "text/x-python",
   "name": "python",
   "nbconvert_exporter": "python",
   "pygments_lexer": "ipython3",
   "version": "3.11.0"
  }
 },
 "nbformat": 4,
 "nbformat_minor": 4
}
