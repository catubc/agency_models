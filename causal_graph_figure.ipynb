{
 "cells": [
  {
   "cell_type": "code",
   "execution_count": 1,
   "metadata": {},
   "outputs": [
    {
     "data": {
      "application/javascript": [
       "IPython.notebook.set_autosave_interval(180000)"
      ]
     },
     "metadata": {},
     "output_type": "display_data"
    },
    {
     "name": "stdout",
     "output_type": "stream",
     "text": [
      "Autosaving every 180 seconds\n"
     ]
    }
   ],
   "source": [
    "%autosave 180\n",
    "%matplotlib tk\n",
    "\n",
    "import matplotlib.pyplot as plt\n",
    "import numpy as np\n",
    "import networkx as nx\n",
    "\n",
    "from utils.network import network\n"
   ]
  },
  {
   "cell_type": "code",
   "execution_count": 56,
   "metadata": {},
   "outputs": [
    {
     "ename": "KeyError",
     "evalue": "'reasoning'",
     "output_type": "error",
     "traceback": [
      "\u001b[0;31m---------------------------------------------------------------------------\u001b[0m",
      "\u001b[0;31mKeyError\u001b[0m                                  Traceback (most recent call last)",
      "\u001b[0;32m<ipython-input-56-6c2a87d0d89d>\u001b[0m in \u001b[0;36m<module>\u001b[0;34m\u001b[0m\n\u001b[1;32m     44\u001b[0m \u001b[0mpos\u001b[0m \u001b[0;34m=\u001b[0m \u001b[0mnx\u001b[0m\u001b[0;34m.\u001b[0m\u001b[0mspring_layout\u001b[0m\u001b[0;34m(\u001b[0m\u001b[0mGcc\u001b[0m\u001b[0;34m,\u001b[0m \u001b[0mseed\u001b[0m\u001b[0;34m=\u001b[0m\u001b[0;36m10396953\u001b[0m\u001b[0;34m)\u001b[0m\u001b[0;34m\u001b[0m\u001b[0;34m\u001b[0m\u001b[0m\n\u001b[1;32m     45\u001b[0m \u001b[0;34m\u001b[0m\u001b[0m\n\u001b[0;32m---> 46\u001b[0;31m nx.draw_networkx_labels(G, pos,\n\u001b[0m\u001b[1;32m     47\u001b[0m                         \u001b[0;31m#node_color='w',\u001b[0m\u001b[0;34m\u001b[0m\u001b[0;34m\u001b[0m\u001b[0;34m\u001b[0m\u001b[0m\n\u001b[1;32m     48\u001b[0m                         \u001b[0;31m#edgecolors='k',\u001b[0m\u001b[0;34m\u001b[0m\u001b[0;34m\u001b[0m\u001b[0;34m\u001b[0m\u001b[0m\n",
      "\u001b[0;32m/media/cat/4TBSSD/anaconda3/lib/python3.8/site-packages/networkx/drawing/nx_pylab.py\u001b[0m in \u001b[0;36mdraw_networkx_labels\u001b[0;34m(G, pos, labels, font_size, font_color, font_family, font_weight, alpha, bbox, horizontalalignment, verticalalignment, ax)\u001b[0m\n",
      "\u001b[0;31mKeyError\u001b[0m: 'reasoning'"
     ]
    }
   ],
   "source": [
    "def generate_graph_from_connected_nodes(cm):\n",
    "\n",
    "    adjacency_matrix = cm.copy()\n",
    "    \n",
    "    \n",
    "    if True:\n",
    "        G = nx.from_numpy_matrix(adjacency_matrix, create_using=nx.MultiGraph)\n",
    "    \n",
    "    else:\n",
    "        rows, cols = np.where(adjacency_matrix == 1)\n",
    "\n",
    "        #\n",
    "        edges = zip(rows.tolist(), cols.tolist())\n",
    "        G = nx.Graph()\n",
    "        G.add_edges_from(edges)\n",
    "    \n",
    "\n",
    "\n",
    "    return G    \n",
    "\n",
    "names = ['reasoning',\n",
    "         'social status',\n",
    "         'economic status',\n",
    "         'political status',\n",
    "         'noise'\n",
    "        ]\n",
    "\n",
    "a = np.ones((5,5))\n",
    "\n",
    "G = generate_graph_from_connected_nodes(a)\n",
    "\n",
    "plt.figure()\n",
    "ax0 = plt.subplot(111)\n",
    "#\n",
    "Gcc = G.subgraph(sorted(nx.connected_components(G), \n",
    "                        #key=len, \n",
    "                        reverse=True)[0])\n",
    "\n",
    "pos = nx.spring_layout(Gcc, seed=10396953)\n",
    "\n",
    "#\n",
    "nx.draw_networkx_nodes(Gcc, pos, ax=ax0, node_size=200)\n",
    "nx.draw_networkx_edges(Gcc, pos, ax=ax0, edge_color = 'b', arrowsize=20, \n",
    "                       #arrowstyle='fancy',\n",
    "                       alpha=1)\n",
    "\n",
    "#\n",
    "plt.show()\n",
    "\n",
    "\n",
    "\n"
   ]
  },
  {
   "cell_type": "code",
   "execution_count": 102,
   "metadata": {},
   "outputs": [],
   "source": [
    "import networkx as nx\n",
    "import pylab as plt\n",
    "\n",
    "G=nx.Graph()\n",
    "# Add nodes and edges\n",
    "names = [\"action\",\n",
    "         \"goal\",\n",
    "         \"reasoning\",\n",
    "         \"social status\",\n",
    "         \"economic status\",\n",
    "         \"political status\",\n",
    "         \"noise\",\n",
    "        ]\n",
    "for k in range(len(names)):\n",
    "    for p in range(len(names)):\n",
    "        G.add_edge(names[k], names[p])\n",
    "        \n",
    "plt.figure(figsize=(3,3))\n",
    "\n",
    "pos = nx.spring_layout(G, seed=255155)\n",
    "\n",
    "nx.draw(G,\n",
    "        pos, \n",
    "        with_labels = True,\n",
    "        #labelsize=100,\n",
    "        #size=200,\n",
    "        alpha=1\n",
    "       )\n",
    "\n",
    "\n",
    "\n",
    "# nx.spring_layout(G, pos, seed=10396953,\n",
    "\n",
    "\n",
    "#nx.draw_networkx_nodes(G, pos, ax=ax0, node_size=200)\n",
    "#nx.draw_networkx_edges(G, pos, ax=ax0, edge_color = 'b', arrowsize=20, \n",
    "#                       #arrowstyle='fancy',\n",
    "#                       alpha=1)\n",
    "if False:\n",
    "    plt.show()\n",
    "else:\n",
    "    plt.savefig(\"/home/cat/agency.svg\")\n",
    "    plt.close()"
   ]
  },
  {
   "cell_type": "code",
   "execution_count": null,
   "metadata": {},
   "outputs": [],
   "source": []
  }
 ],
 "metadata": {
  "kernelspec": {
   "display_name": "Python 3 (ipykernel)",
   "language": "python",
   "name": "python3"
  },
  "language_info": {
   "codemirror_mode": {
    "name": "ipython",
    "version": 3
   },
   "file_extension": ".py",
   "mimetype": "text/x-python",
   "name": "python",
   "nbconvert_exporter": "python",
   "pygments_lexer": "ipython3",
   "version": "3.11.0"
  }
 },
 "nbformat": 4,
 "nbformat_minor": 4
}
