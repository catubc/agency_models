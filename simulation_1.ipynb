{
 "cells": [
  {
   "cell_type": "code",
   "execution_count": 1,
   "metadata": {
    "tags": []
   },
   "outputs": [
    {
     "data": {
      "application/javascript": "IPython.notebook.set_autosave_interval(180000)"
     },
     "metadata": {},
     "output_type": "display_data"
    },
    {
     "name": "stdout",
     "output_type": "stream",
     "text": [
      "Autosaving every 180 seconds\n"
     ]
    }
   ],
   "source": [
    "%autosave 180\n",
    "%reload_ext autoreload\n",
    "%autoreload 2\n",
    "%matplotlib tk\n",
    "\n",
    "#\n",
    "import matplotlib.pyplot as plt\n",
    "import numpy as np\n",
    "import scipy\n",
    "\n",
    "#\n",
    "from tqdm import trange\n",
    "\n",
    "#\n",
    "from utils import World, Human, Agent, parallel_simulations"
   ]
  },
  {
   "cell_type": "code",
   "execution_count": 20,
   "metadata": {},
   "outputs": [
    {
     "name": "stderr",
     "output_type": "stream",
     "text": [
      "100%|██████████| 99999/99999 [00:09<00:00, 11059.81it/s]\n"
     ]
    },
    {
     "name": "stdout",
     "output_type": "stream",
     "text": [
      "ratios:  [0.21506 0.28379 0.31538 0.18577]\n"
     ]
    },
    {
     "name": "stderr",
     "output_type": "stream",
     "text": [
      "100%|██████████| 99999/99999 [00:09<00:00, 10885.56it/s]\n"
     ]
    },
    {
     "name": "stdout",
     "output_type": "stream",
     "text": [
      "ratios:  [0.23587 0.27632 0.29831 0.1895 ]\n"
     ]
    },
    {
     "name": "stderr",
     "output_type": "stream",
     "text": [
      "100%|██████████| 99999/99999 [00:09<00:00, 10532.02it/s]\n"
     ]
    },
    {
     "name": "stdout",
     "output_type": "stream",
     "text": [
      "ratios:  [0.22527 0.28413 0.32072 0.16988]\n"
     ]
    },
    {
     "name": "stderr",
     "output_type": "stream",
     "text": [
      "100%|██████████| 99999/99999 [00:09<00:00, 10882.82it/s]\n"
     ]
    },
    {
     "name": "stdout",
     "output_type": "stream",
     "text": [
      "ratios:  [0.24126 0.27217 0.31382 0.17275]\n"
     ]
    },
    {
     "name": "stderr",
     "output_type": "stream",
     "text": [
      "100%|██████████| 99999/99999 [00:09<00:00, 10875.14it/s]\n"
     ]
    },
    {
     "name": "stdout",
     "output_type": "stream",
     "text": [
      "ratios:  [0.22065 0.27703 0.30452 0.1978 ]\n"
     ]
    },
    {
     "name": "stderr",
     "output_type": "stream",
     "text": [
      "100%|██████████| 99999/99999 [00:09<00:00, 10813.40it/s]\n"
     ]
    },
    {
     "name": "stdout",
     "output_type": "stream",
     "text": [
      "ratios:  [0.22599 0.27057 0.31527 0.18817]\n"
     ]
    },
    {
     "name": "stderr",
     "output_type": "stream",
     "text": [
      "100%|██████████| 99999/99999 [00:09<00:00, 10651.78it/s]\n"
     ]
    },
    {
     "name": "stdout",
     "output_type": "stream",
     "text": [
      "ratios:  [0.21026 0.28929 0.32013 0.18032]\n"
     ]
    },
    {
     "name": "stderr",
     "output_type": "stream",
     "text": [
      "100%|██████████| 99999/99999 [00:09<00:00, 10896.57it/s]\n"
     ]
    },
    {
     "name": "stdout",
     "output_type": "stream",
     "text": [
      "ratios:  [0.21854 0.26396 0.30842 0.20908]\n"
     ]
    },
    {
     "name": "stderr",
     "output_type": "stream",
     "text": [
      "100%|██████████| 99999/99999 [00:09<00:00, 11052.24it/s]\n"
     ]
    },
    {
     "name": "stdout",
     "output_type": "stream",
     "text": [
      "ratios:  [0.22212 0.28359 0.30509 0.1892 ]\n"
     ]
    },
    {
     "name": "stderr",
     "output_type": "stream",
     "text": [
      "100%|██████████| 99999/99999 [00:09<00:00, 10777.56it/s]"
     ]
    },
    {
     "name": "stdout",
     "output_type": "stream",
     "text": [
      "ratios:  [0.23653 0.27248 0.30953 0.18146]\n"
     ]
    },
    {
     "name": "stderr",
     "output_type": "stream",
     "text": [
      "\n"
     ]
    }
   ],
   "source": [
    "#\n",
    "\n",
    "def run_simulation(n_epochs = 10000):\n",
    "\n",
    "    probs = np.array([1, 0.25, 0.1, 0.01])\n",
    "    \n",
    "    #\n",
    "    clrs = ['magenta', 'blue','red','green']\n",
    "\n",
    "    #\n",
    "    rewards = 1/probs\n",
    "    #print (\" starting rewards: \", rewards)\n",
    "\n",
    "    #\n",
    "    vals = np.zeros((n_epochs, len(probs)))+1\n",
    "    total_rewards = np.zeros((n_epochs, len(probs)))+1\n",
    "    line = []\n",
    "    scaling = 0.9\n",
    "    apply_learning_rate = False\n",
    "    for k in trange(1,n_epochs,1):\n",
    "\n",
    "        #\n",
    "        action = np.random.choice(np.arange(len(probs)), \n",
    "                                  p=np.ones(len(probs))/len(probs))\n",
    "\n",
    "        #\n",
    "        for p in range(len(probs)):\n",
    "            \n",
    "            #\n",
    "            if p==action:\n",
    "                # temporal diference learning\n",
    "                r = np.random.rand()\n",
    "                if r<probs[action]:\n",
    "                    #print (\"success: action: \", action)\n",
    "                    total_rewards[k, p] = total_rewards[k-1, p]*scaling + rewards[p]*(1-scaling)\n",
    "\n",
    "                    #\n",
    "                    vals[k, p] = vals[k-1, p]*scaling+ (1-scaling)*rewards[p]\n",
    "                \n",
    "                #\n",
    "                else:\n",
    "                    # \n",
    "                    total_rewards[k, p] = total_rewards[k-1, p]*scaling\n",
    "                    vals[k, p] = vals[k-1, p]*scaling\n",
    "\n",
    "            #\n",
    "            else:\n",
    "                total_rewards[k, p] = total_rewards[k-1, p]\n",
    "                vals[k, p] = vals[k-1, p]\n",
    "        \n",
    "        # check which val is optimal\n",
    "        amax = np.argmax(vals[k])\n",
    "        #print (\"amax: \", amax)\n",
    "        line.append(amax)\n",
    "        \n",
    "        #\n",
    "        if apply_learning_rate:\n",
    "            scaling = scaling - scaling*k/n_epochs\n",
    "                \n",
    "\n",
    "    # make lines\n",
    "    #\n",
    "    maxes = np.argmax(vals, axis=1)\n",
    "    _,res = np.unique(maxes, return_counts=True)\n",
    "    print (\"ratios: \", res/n_epochs)\n",
    "    ratios = res/n_epochs\n",
    "\n",
    "    #for k in range(n_epochs):\n",
    "    line = np.array(line)\n",
    "\n",
    "    #\n",
    "    if False:\n",
    "        plt.figure(figsize=(10,5))\n",
    "\n",
    "        for k in range(len(probs)):\n",
    "            idx = np.where(line==k)[0]\n",
    "            for x in idx:\n",
    "                #print (x)\n",
    "                plt.vlines(x = x, ymin = 14, ymax = 14.5, \n",
    "                            color = clrs[k],\n",
    "                        )\n",
    "\n",
    "\n",
    "\n",
    "        #\n",
    "        for k in range(len(probs)):\n",
    "            plt.plot(vals[:,k], \n",
    "                    c=clrs[k],\n",
    "                    label=str(k)+ \", % recommended \"+str(round(ratios[k],2)))\n",
    "\n",
    "        #\n",
    "        plt.ylim(bottom=0)\n",
    "        plt.xlim(0,n_epochs)\n",
    "\n",
    "        #\n",
    "        plt.ylabel(\"Value\")\n",
    "        plt.xlabel(\"Time\")\n",
    "\n",
    "        plt.legend()\n",
    "        plt.show()\n",
    "        \n",
    "        plt.savefig('/home/cat/peter_sim.svg')\n",
    "\n",
    "    return ratios\n",
    "\n",
    "ratios = []\n",
    "n_epochs = 100000\n",
    "for k in range(10):\n",
    "    ratios.append(run_simulation(n_epochs))\n"
   ]
  },
  {
   "cell_type": "code",
   "execution_count": 21,
   "metadata": {},
   "outputs": [
    {
     "name": "stdout",
     "output_type": "stream",
     "text": [
      "ratios:  (10, 4)\n",
      "mean:  [0.225155 0.277333 0.311119 0.186393]\n"
     ]
    }
   ],
   "source": [
    "ratios = np.array(ratios)\n",
    "print (\"ratios: \", ratios.shape)\n",
    "\n",
    "print (\"mean: \", np.mean(ratios, axis=0))"
   ]
  },
  {
   "cell_type": "code",
   "execution_count": 19,
   "metadata": {},
   "outputs": [
    {
     "name": "stdout",
     "output_type": "stream",
     "text": [
      "ratios:  (10, 4)\n",
      "mean:  [0.23891 0.26568 0.32178 0.17363]\n"
     ]
    }
   ],
   "source": [
    "ratios = np.array(ratios)\n",
    "print (\"ratios: \", ratios.shape)\n",
    "\n",
    "print (\"mean: \", np.mean(ratios, axis=0))"
   ]
  },
  {
   "cell_type": "code",
   "execution_count": null,
   "metadata": {},
   "outputs": [],
   "source": []
  },
  {
   "cell_type": "code",
   "execution_count": null,
   "metadata": {},
   "outputs": [],
   "source": []
  },
  {
   "cell_type": "code",
   "execution_count": null,
   "metadata": {},
   "outputs": [],
   "source": []
  },
  {
   "cell_type": "code",
   "execution_count": null,
   "metadata": {},
   "outputs": [],
   "source": []
  },
  {
   "cell_type": "code",
   "execution_count": null,
   "metadata": {},
   "outputs": [],
   "source": []
  },
  {
   "cell_type": "code",
   "execution_count": null,
   "metadata": {
    "tags": []
   },
   "outputs": [],
   "source": [
    "########## BETA FUNCTION VERSION #########\n",
    "\n",
    "#\n",
    "h = Human()\n",
    "\n",
    "# show the distributions\n",
    "h.visualize_dists()\n"
   ]
  },
  {
   "cell_type": "code",
   "execution_count": null,
   "metadata": {
    "tags": []
   },
   "outputs": [],
   "source": [
    "#####################################################################################\n",
    "############## SIMULATION #1: WORLD-ONLY AND AGENT-INFLUENCED PARADIGM ##############\n",
    "#####################################################################################\n",
    "\n",
    "#\n",
    "h = Human()\n",
    "\n",
    "#\n",
    "a = Agent()\n",
    "a.human = h\n",
    "\n",
    "# generate world object\n",
    "w = World(a, h)\n",
    "\n",
    "# Update human params\n",
    "h.random_init = False\n",
    "h.agent_scaling = 0 #1/100\n",
    "h.noise_self_scaling = 0 #1/1000\n",
    "h.noise_world_scaling = 1/10\n",
    "h.action_scaling = 0 #1/1000\n",
    "h.option_depletion_max = 0  # max amount of depletion alowed per action\n",
    "h.agency_recovery_rate = 1.1  # rate at which agency recovers\n",
    "h.verbose = False\n",
    "h.agent = a\n",
    "h.w = w\n",
    "\n",
    "#\n",
    "h.n_epochs = 10000\n",
    "token = 0\n",
    "h.run_simulation()\n",
    "\n",
    "#\n",
    "h.plot_simulation()\n",
    "\n"
   ]
  },
  {
   "cell_type": "code",
   "execution_count": null,
   "metadata": {},
   "outputs": [],
   "source": [
    "#####################################################################################\n",
    "############## SIMULATION #1: WORLD-ONLY AND AGENT-INFLUENCED PARADIGM ##############\n",
    "#####################################################################################\n",
    "\n",
    "#\n",
    "def parallel_simulations2(token, prefix=''):\n",
    "\n",
    "    h = Human()\n",
    "\n",
    "    #\n",
    "    a = Agent()\n",
    "    a.human = h\n",
    "\n",
    "    # generate world object\n",
    "    w = World(a, h)\n",
    "\n",
    "    # Update human params\n",
    "    h.random_init = False\n",
    "    h.agent_scaling = 1/200\n",
    "    h.noise_self_scaling = 0 #1/1000\n",
    "    h.noise_world_scaling = 1/10\n",
    "    h.action_scaling = 0 #1/1000\n",
    "    h.option_depletion_max = 0  # max amount of depletion alowed per action\n",
    "    h.agency_recovery_rate = 1.1  # rate at which agency recovers\n",
    "    h.verbose = False\n",
    "    h.prefix = prefix\n",
    "    h.agent = a\n",
    "    h.w = w\n",
    "\n",
    "    #\n",
    "    h.n_epochs = 10000\n",
    "\n",
    "    #\n",
    "    h.run_simulation(token)\n",
    "\n",
    "#\n",
    "import parmap\n",
    "n_simulations = 100\n",
    "\n",
    "#\n",
    "prefix = \"agent_influenced\"\n",
    "\n",
    "#\n",
    "parmap.map(parallel_simulations2, \n",
    "           range(n_simulations), \n",
    "           prefix,\n",
    "           pm_pbar=True, \n",
    "           pm_processes=30)\n",
    "\n",
    "print (\"...DONE...\")\n"
   ]
  },
  {
   "cell_type": "code",
   "execution_count": null,
   "metadata": {},
   "outputs": [],
   "source": [
    "######################################################################\n",
    "############## SIMULATION #1: VISUALIZE AVERAGE RESULTS ##############\n",
    "######################################################################\n",
    "\n",
    "clrs = ['darkorchid','blue','red','green']\n",
    "\n",
    "#\n",
    "n_simulations = 100\n",
    "tot_rew = []\n",
    "prefix = \"agent_influenced_\"\n",
    "for k in range(n_simulations):\n",
    "    #\n",
    "    fname = '/home/cat/agency_21st_century_paper/data/'+prefix+'agent_'+str(k)+'.npz'\n",
    "    \n",
    "    #\n",
    "    try:\n",
    "        d = np.load(fname)\n",
    "    except:\n",
    "        print (\"...skipping: \", fname)\n",
    "        pass\n",
    "\n",
    "    #\n",
    "    temp = d['total_rewards']\n",
    "    tot_rew.append(temp)\n",
    "\n",
    "# \n",
    "tot_rew = np.array(tot_rew).sum(axis=1)\n",
    "print (\"tot_rew: \", tot_rew.shape)\n",
    "\n",
    "#\n",
    "mean = np.mean(tot_rew, axis=0)\n",
    "std = np.std(tot_rew, axis=0)\n",
    "print (mean.shape)\n",
    "\n",
    "#\n",
    "plt.figure(figsize=(10,5))\n",
    "ax=plt.subplot(1,2,1)\n",
    "plt.bar(np.arange(mean.shape[0]), mean, 0.9, yerr=std,\n",
    "        color=clrs)\n",
    "#\n",
    "ax=plt.subplot(1,2,2)\n",
    "tots = np.sum(tot_rew,axis=1)\n",
    "print (\"tots: \", tots.shape)\n",
    "mean = np.mean(tots)\n",
    "std = np.std(tots)\n",
    "print (mean)\n",
    "plt.bar(1, mean, \n",
    "        yerr=std,\n",
    "        color='black',alpha=0.5)\n",
    "\n",
    "plt.savefig('/home/cat/agency_21st_century_paper/tot_rew_100_episodes.svg')\n",
    "plt.show()\n",
    "\n"
   ]
  },
  {
   "cell_type": "code",
   "execution_count": null,
   "metadata": {},
   "outputs": [],
   "source": [
    "#####################################################################################\n",
    "############## SIMULATION #2: OPTION DEPLETION CAPPED PARDIGMS ######################\n",
    "#####################################################################################\n",
    "\n",
    "#\n",
    "h = Human()\n",
    "\n",
    "#\n",
    "a = Agent()\n",
    "a.human = h\n",
    "\n",
    "# generate world object\n",
    "w = World(a, h)\n",
    "\n",
    "# Update human params\n",
    "h.random_init = False\n",
    "h.agent_scaling = 1/200\n",
    "h.noise_self_scaling = 0 #1/1000\n",
    "h.noise_world_scaling = 1/10\n",
    "h.option_depletion_max = 0  # max amount of depletion alowed per action\n",
    "h.agency_recovery_rate = 1.1  # rate at which agency recovers once it goes below max depletion\n",
    "h.action_scaling = 0 #1/1000\n",
    "h.verbose = False\n",
    "h.agent = a\n",
    "h.w = w\n",
    "\n",
    "#\n",
    "h.n_epochs = 10000\n",
    "h.run_simulation()\n",
    "\n",
    "#  \n",
    "h.plot_simulation()\n"
   ]
  },
  {
   "cell_type": "code",
   "execution_count": null,
   "metadata": {},
   "outputs": [],
   "source": []
  },
  {
   "cell_type": "code",
   "execution_count": null,
   "metadata": {},
   "outputs": [],
   "source": []
  },
  {
   "cell_type": "code",
   "execution_count": null,
   "metadata": {},
   "outputs": [],
   "source": []
  },
  {
   "cell_type": "code",
   "execution_count": null,
   "metadata": {},
   "outputs": [],
   "source": []
  },
  {
   "cell_type": "code",
   "execution_count": null,
   "metadata": {},
   "outputs": [],
   "source": []
  },
  {
   "cell_type": "code",
   "execution_count": null,
   "metadata": {},
   "outputs": [],
   "source": []
  },
  {
   "cell_type": "code",
   "execution_count": null,
   "metadata": {},
   "outputs": [],
   "source": []
  },
  {
   "cell_type": "code",
   "execution_count": null,
   "metadata": {},
   "outputs": [],
   "source": [
    "\n",
    "#######################################\n",
    "plt.figure()\n",
    "ax=plt.subplot(121)\n",
    "for k in range(4):\n",
    "    plt.plot(actions[:,k], c=clrs[k],\n",
    "             label=h.action_types[k])\n",
    "plt.ylim(top=1)\n",
    "plt.legend(fontsize=12)\n",
    "#plt.semilogy()\n",
    "plt.semilogx()\n",
    "plt.ylabel(\"Probability of choosing action for human\")\n",
    "plt.title(\"Random noise ~ agent recomendation\")\n",
    "\n",
    "#\n",
    "ax=plt.subplot(122)\n",
    "for k in range(4):\n",
    "    plt.plot(values[:,k], c=clrs[k],\n",
    "             label=h.action_types[k])\n",
    "plt.show()\n",
    "\n",
    "# make test function\n",
    "\n"
   ]
  },
  {
   "cell_type": "code",
   "execution_count": null,
   "metadata": {},
   "outputs": [],
   "source": []
  },
  {
   "cell_type": "code",
   "execution_count": null,
   "metadata": {},
   "outputs": [],
   "source": []
  },
  {
   "cell_type": "code",
   "execution_count": null,
   "metadata": {},
   "outputs": [],
   "source": []
  },
  {
   "cell_type": "code",
   "execution_count": null,
   "metadata": {},
   "outputs": [],
   "source": [
    "def generate_graph_from_connected_nodes(cm):\n",
    "\n",
    "    adjacency_matrix = cm.copy()\n",
    "    \n",
    "    \n",
    "    if True:\n",
    "        G = nx.from_numpy_matrix(adjacency_matrix, create_using=nx.MultiGraph)\n",
    "    \n",
    "    else:\n",
    "        rows, cols = np.where(adjacency_matrix == 1)\n",
    "\n",
    "        #\n",
    "        edges = zip(rows.tolist(), cols.tolist())\n",
    "        G = nx.Graph()\n",
    "        G.add_edges_from(edges)\n",
    "    \n",
    "\n",
    "\n",
    "    return G    \n",
    "\n",
    "names = ['reasoning',\n",
    "         'social status',\n",
    "         'economic status',\n",
    "         'political status',\n",
    "         'noise'\n",
    "        ]\n",
    "\n",
    "a = np.ones((5,5))\n",
    "\n",
    "G = generate_graph_from_connected_nodes(a)\n",
    "\n",
    "plt.figure()\n",
    "ax0 = plt.subplot(111)\n",
    "#\n",
    "Gcc = G.subgraph(sorted(nx.connected_components(G), \n",
    "                        #key=len, \n",
    "                        reverse=True)[0])\n",
    "\n",
    "pos = nx.spring_layout(Gcc, seed=10396953)\n",
    "\n",
    "#\n",
    "nx.draw_networkx_nodes(Gcc, pos, ax=ax0, node_size=200)\n",
    "nx.draw_networkx_edges(Gcc, pos, ax=ax0, edge_color = 'b', arrowsize=20, \n",
    "                       #arrowstyle='fancy',\n",
    "                       alpha=1)\n",
    "\n",
    "#\n",
    "plt.show()\n",
    "\n",
    "\n",
    "\n"
   ]
  },
  {
   "cell_type": "code",
   "execution_count": null,
   "metadata": {},
   "outputs": [],
   "source": [
    "import networkx as nx\n",
    "import pylab as plt\n",
    "\n",
    "G=nx.Graph()\n",
    "# Add nodes and edges\n",
    "names = [\"action\",\n",
    "         \"goal\",\n",
    "         \"reasoning\",\n",
    "         \"social status\",\n",
    "         \"economic status\",\n",
    "         \"political status\",\n",
    "         \"noise\",\n",
    "        ]\n",
    "for k in range(len(names)):\n",
    "    for p in range(len(names)):\n",
    "        G.add_edge(names[k], names[p])\n",
    "        \n",
    "plt.figure(figsize=(3,3))\n",
    "\n",
    "pos = nx.spring_layout(G, seed=255155)\n",
    "\n",
    "nx.draw(G,\n",
    "        pos, \n",
    "        with_labels = True,\n",
    "        #labelsize=100,\n",
    "        #size=200,\n",
    "        alpha=1\n",
    "       )\n",
    "\n",
    "\n",
    "\n",
    "# nx.spring_layout(G, pos, seed=10396953,\n",
    "\n",
    "\n",
    "#nx.draw_networkx_nodes(G, pos, ax=ax0, node_size=200)\n",
    "#nx.draw_networkx_edges(G, pos, ax=ax0, edge_color = 'b', arrowsize=20, \n",
    "#                       #arrowstyle='fancy',\n",
    "#                       alpha=1)\n",
    "if False:\n",
    "    plt.show()\n",
    "else:\n",
    "    plt.savefig(\"/home/cat/agency.svg\")\n",
    "    plt.close()"
   ]
  },
  {
   "cell_type": "code",
   "execution_count": null,
   "metadata": {},
   "outputs": [],
   "source": []
  }
 ],
 "metadata": {
  "kernelspec": {
   "display_name": "Python 3 (ipykernel)",
   "language": "python",
   "name": "python3"
  },
  "language_info": {
   "codemirror_mode": {
    "name": "ipython",
    "version": 3
   },
   "file_extension": ".py",
   "mimetype": "text/x-python",
   "name": "python",
   "nbconvert_exporter": "python",
   "pygments_lexer": "ipython3",
   "version": "3.11.0"
  }
 },
 "nbformat": 4,
 "nbformat_minor": 4
}
